{
  "nbformat": 4,
  "nbformat_minor": 0,
  "metadata": {
    "colab": {
      "name": "Untitled1.ipynb",
      "version": "0.3.2",
      "provenance": [],
      "toc_visible": true,
      "include_colab_link": true
    },
    "kernelspec": {
      "name": "python3",
      "display_name": "Python 3"
    }
  },
  "cells": [
    {
      "cell_type": "markdown",
      "metadata": {
        "id": "view-in-github",
        "colab_type": "text"
      },
      "source": [
        "[View in Colaboratory](https://colab.research.google.com/github/oluwatobi1/-AIHackaton-/blob/master/RandomForestRegression.ipynb)"
      ]
    },
    {
      "metadata": {
        "id": "Jgw-HKuURGCd",
        "colab_type": "code",
        "colab": {
          "base_uri": "https://localhost:8080/",
          "height": 34
        },
        "outputId": "0db568f9-2ab6-4163-d68e-7d3fec83ed3d"
      },
      "cell_type": "code",
      "source": [
        "ls"
      ],
      "execution_count": 2,
      "outputs": [
        {
          "output_type": "stream",
          "text": [
            "\u001b[0m\u001b[01;34mdatalab\u001b[0m/  submission_sample.csv  train.csv\r\n"
          ],
          "name": "stdout"
        }
      ]
    },
    {
      "metadata": {
        "id": "7DEFKEYhRQh3",
        "colab_type": "code",
        "colab": {}
      },
      "cell_type": "code",
      "source": [
        "import pandas as pd\n",
        "import matplotlib.pyplot as plt\n",
        "import numpy as np\n"
      ],
      "execution_count": 0,
      "outputs": []
    },
    {
      "metadata": {
        "id": "5sYa5_3iRj2e",
        "colab_type": "code",
        "colab": {}
      },
      "cell_type": "code",
      "source": [
        "train = pd.read_csv('train.csv')\n",
        "\n",
        "train[\"Date\"], train[\"Time\"] = train[\"pickup_date_time\"].str.split(' ', 1).str\n",
        "\n",
        "train[\"year\"], train['month'], train['day_of_month'] = train[\"Date\"].str.split('-').str\n",
        "train['hour_of_day'], train['time_trash'] = train[\"Time\"].str.split(':', 1).str\n",
        "\n",
        "train['year'] = pd.to_numeric(train['year'], errors='coerce')\n",
        "train['month'] = pd.to_numeric(train['month'], errors='coerce')\n",
        "train['day_of_month'] = pd.to_numeric(train['day_of_month'], errors='coerce')\n",
        "train['hour_of_day'] = pd.to_numeric(train['hour_of_day'], errors='coerce')\n",
        "train['pickup_date_time'] = pd.to_datetime(train['pickup_date_time'], errors='coerce')\n",
        "train['day_of_week'] = train['pickup_date_time'].dt.dayofweek\n",
        "train_new = train.drop(['ct2010', 'pickup_date_time', 'Date', 'Time', 'year', 'time_trash'], axis=1)\n",
        "X = train_new.iloc[:, [1, 2, 3, 4]].values\n",
        "Y = train_new.iloc[:, 0].values\n",
        "\n"
      ],
      "execution_count": 0,
      "outputs": []
    },
    {
      "metadata": {
        "id": "8c2FE-e8RskS",
        "colab_type": "code",
        "colab": {}
      },
      "cell_type": "code",
      "source": [
        "from sklearn.ensemble import RandomForestRegressor"
      ],
      "execution_count": 0,
      "outputs": []
    },
    {
      "metadata": {
        "id": "xfbCK7-jR5O8",
        "colab_type": "code",
        "colab": {}
      },
      "cell_type": "code",
      "source": [
        "regressor = RandomForestRegressor(n_estimators = 300, random_state = 0)"
      ],
      "execution_count": 0,
      "outputs": []
    },
    {
      "metadata": {
        "id": "ek3TuxdvShWZ",
        "colab_type": "code",
        "colab": {
          "base_uri": "https://localhost:8080/",
          "height": 119
        },
        "outputId": "4281065a-df39-43f2-f707-2078e23c1c2c"
      },
      "cell_type": "code",
      "source": [
        "regressor.fit(X, Y)"
      ],
      "execution_count": 35,
      "outputs": [
        {
          "output_type": "execute_result",
          "data": {
            "text/plain": [
              "RandomForestRegressor(bootstrap=True, criterion='mse', max_depth=None,\n",
              "           max_features='auto', max_leaf_nodes=None,\n",
              "           min_impurity_decrease=0.0, min_impurity_split=None,\n",
              "           min_samples_leaf=1, min_samples_split=2,\n",
              "           min_weight_fraction_leaf=0.0, n_estimators=300, n_jobs=1,\n",
              "           oob_score=False, random_state=0, verbose=0, warm_start=False)"
            ]
          },
          "metadata": {
            "tags": []
          },
          "execution_count": 35
        }
      ]
    },
    {
      "metadata": {
        "id": "OT9VIggQSAoY",
        "colab_type": "code",
        "colab": {}
      },
      "cell_type": "code",
      "source": [
        "test = pd.read_csv('submission_sample.csv')\n",
        "\n",
        "test['id'], test['datetime'] = test['key'].str.split(' / ', 1).str\n",
        "test['date'], test['time'] = test['datetime'].str.split(' ', 1).str\n",
        "test[\"year\"], test['month'], test['day_of_month'] = test[\"date\"].str.split('-').str\n",
        "test['hour_of_day'], test['time_trash'] = test[\"time\"].str.split(':', 1).str\n",
        "\n",
        "test['year'] = pd.to_numeric(test['year'], errors='coerce')\n",
        "test['month'] = pd.to_numeric(test['month'], errors='coerce')\n",
        "test['day_of_month'] = pd.to_numeric(test['day_of_month'], errors='coerce')\n",
        "test['hour_of_day'] = pd.to_numeric(test['hour_of_day'], errors='coerce')\n",
        "test['datetime'] = pd.to_datetime(test['datetime'], errors='coerce')\n",
        "test['day_of_week'] = test['datetime'].dt.dayofweek\n",
        "test = test.drop(['id', 'datetime', 'date', 'time', 'year', 'time_trash'], axis=1)"
      ],
      "execution_count": 0,
      "outputs": []
    },
    {
      "metadata": {
        "id": "8wwrwHjdTcYN",
        "colab_type": "code",
        "colab": {}
      },
      "cell_type": "code",
      "source": [
        "test = test.drop(['nb_pickup', 'key'], axis=1)"
      ],
      "execution_count": 0,
      "outputs": []
    },
    {
      "metadata": {
        "id": "bDGcuRcuTrYp",
        "colab_type": "code",
        "colab": {}
      },
      "cell_type": "code",
      "source": [
        "X_test= test.iloc[:, [0, 1, 2, 3]].values"
      ],
      "execution_count": 0,
      "outputs": []
    },
    {
      "metadata": {
        "id": "ZCkj_rFqTrKH",
        "colab_type": "code",
        "colab": {}
      },
      "cell_type": "code",
      "source": [
        "Y_pred = regressor.predict(X_test)"
      ],
      "execution_count": 0,
      "outputs": []
    },
    {
      "metadata": {
        "id": "DE1Z9dY7UBkv",
        "colab_type": "code",
        "colab": {
          "base_uri": "https://localhost:8080/",
          "height": 51
        },
        "outputId": "dbdd17cd-1fce-45cc-c8ce-b4f10ed0780f"
      },
      "cell_type": "code",
      "source": [
        "Y_pred"
      ],
      "execution_count": 19,
      "outputs": [
        {
          "output_type": "execute_result",
          "data": {
            "text/plain": [
              "array([14.47046216, 13.96540817,  9.39394781, ..., 31.74371629,\n",
              "       59.27967012, 70.04985412])"
            ]
          },
          "metadata": {
            "tags": []
          },
          "execution_count": 19
        }
      ]
    },
    {
      "metadata": {
        "id": "ciO9IQj6ULdP",
        "colab_type": "code",
        "colab": {}
      },
      "cell_type": "code",
      "source": [
        "prediction = pd.read_csv('submission_sample.csv')"
      ],
      "execution_count": 0,
      "outputs": []
    },
    {
      "metadata": {
        "id": "NIk_gr0XUldZ",
        "colab_type": "code",
        "colab": {}
      },
      "cell_type": "code",
      "source": [
        "prediction['nb_pickup'] = Y_pred"
      ],
      "execution_count": 0,
      "outputs": []
    },
    {
      "metadata": {
        "id": "DsDmzEpMVCmZ",
        "colab_type": "code",
        "colab": {}
      },
      "cell_type": "code",
      "source": [
        "prediction.to_csv(\"pred2.csv\")"
      ],
      "execution_count": 0,
      "outputs": []
    },
    {
      "metadata": {
        "id": "ulaPfWvtVPET",
        "colab_type": "code",
        "colab": {
          "base_uri": "https://localhost:8080/",
          "height": 238
        },
        "outputId": "51ae6403-16af-4700-8255-fb4acba7116a"
      },
      "cell_type": "code",
      "source": [
        "ls -al"
      ],
      "execution_count": 31,
      "outputs": [
        {
          "output_type": "stream",
          "text": [
            "total 55576\r\n",
            "drwxr-xr-x 1 root root     4096 Jul 21 14:55 \u001b[0m\u001b[01;34m.\u001b[0m/\r\n",
            "drwxr-xr-x 1 root root     4096 Jul 21 11:52 \u001b[01;34m..\u001b[0m/\r\n",
            "drwx------ 4 root root     4096 Jul 21 11:53 \u001b[01;34m.cache\u001b[0m/\r\n",
            "drwxr-xr-x 3 root root     4096 Jul 21 11:53 \u001b[01;34m.config\u001b[0m/\r\n",
            "drwxr-xr-x 1 root root     4096 Jul 21 12:22 \u001b[01;34mdatalab\u001b[0m/\r\n",
            "-rw-r--r-- 1 root root       12 Jul 21 14:55 example.txt\r\n",
            "drwxr-xr-x 4 root root     4096 Jul 21 11:53 \u001b[01;34m.forever\u001b[0m/\r\n",
            "drwxr-xr-x 5 root root     4096 Jul 21 11:53 \u001b[01;34m.ipython\u001b[0m/\r\n",
            "drwx------ 3 root root     4096 Jul 21 11:53 \u001b[01;34m.local\u001b[0m/\r\n",
            "-rw-r--r-- 1 root root 13133818 Jul 21 14:57 pred2.csv\r\n",
            "-rw-r--r-- 1 root root  7435535 Jul 21 13:07 submission_sample.csv\r\n",
            "-rw-r--r-- 1 root root 36280838 Jul 21 12:51 train.csv\r\n"
          ],
          "name": "stdout"
        }
      ]
    },
    {
      "metadata": {
        "id": "PnUpGOLbVUab",
        "colab_type": "code",
        "colab": {}
      },
      "cell_type": "code",
      "source": [
        ""
      ],
      "execution_count": 0,
      "outputs": []
    },
    {
      "metadata": {
        "id": "2ql7NAP0VU_W",
        "colab_type": "code",
        "colab": {}
      },
      "cell_type": "code",
      "source": [
        "from google.colab import files\n",
        "\n",
        "files.download('pred2.csv')"
      ],
      "execution_count": 0,
      "outputs": []
    }
  ]
}